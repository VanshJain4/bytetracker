{
  "nbformat": 4,
  "nbformat_minor": 0,
  "metadata": {
    "colab": {
      "provenance": [],
      "include_colab_link": true
    },
    "kernelspec": {
      "name": "python3",
      "display_name": "Python 3"
    },
    "language_info": {
      "name": "python"
    }
  },
  "cells": [
    {
      "cell_type": "markdown",
      "metadata": {
        "id": "view-in-github",
        "colab_type": "text"
      },
      "source": [
        "<a href=\"https://colab.research.google.com/github/VanshJain4/bytetracker/blob/main/bytetracker.ipynb\" target=\"_parent\"><img src=\"https://colab.research.google.com/assets/colab-badge.svg\" alt=\"Open In Colab\"/></a>"
      ]
    },
    {
      "cell_type": "markdown",
      "source": [],
      "metadata": {
        "id": "EV-10oUCeh2H"
      }
    },
    {
      "cell_type": "code",
      "source": [
        "# =======================\n",
        "# 1. Install YOLOv8 (Ultralytics)\n",
        "# =======================\n",
        "!pip install ultralytics --upgrade -q\n",
        "from IPython.display import clear_output\n",
        "clear_output()\n",
        "\n",
        "# =======================\n",
        "# 2. Import libraries\n",
        "# =======================\n",
        "import cv2\n",
        "import os\n",
        "from ultralytics import YOLO\n",
        "from IPython.display import Video\n",
        "from tqdm import tqdm\n",
        "\n",
        "# =======================\n",
        "# 3. Upload your input video\n",
        "# =======================\n",
        "from google.colab import files\n",
        "uploaded = files.upload()\n",
        "\n",
        "# Get uploaded video path\n",
        "video_path = next(iter(uploaded))\n",
        "\n",
        "# =======================\n",
        "# 4. Load YOLOv8 model (pretrained on COCO)\n",
        "# =======================\n",
        "model = YOLO(\"yolov8n.pt\")  # Options: yolov8n.pt, yolov8s.pt, yolov8m.pt, etc.\n",
        "\n",
        "# =======================\n",
        "# 5. Open input video\n",
        "# =======================\n",
        "cap = cv2.VideoCapture(video_path)\n",
        "width  = int(cap.get(cv2.CAP_PROP_FRAME_WIDTH))\n",
        "height = int(cap.get(cv2.CAP_PROP_FRAME_HEIGHT))\n",
        "fps    = cap.get(cv2.CAP_PROP_FPS)\n",
        "\n",
        "# Output video writer\n",
        "out_path = \"output_people_detected.mp4\"\n",
        "fourcc = cv2.VideoWriter_fourcc(*'mp4v')\n",
        "out = cv2.VideoWriter(out_path, fourcc, fps, (width, height))\n",
        "\n",
        "# =======================\n",
        "# 6. Process video frame by frame\n",
        "# =======================\n",
        "while cap.isOpened():\n",
        "    ret, frame = cap.read()\n",
        "    if not ret:\n",
        "        break\n",
        "\n",
        "    # Run YOLOv8 inference\n",
        "    results = model(frame, verbose=False)[0]\n",
        "\n",
        "    # Draw bounding boxes for 'person' class (class_id = 0 in COCO)\n",
        "    for box in results.boxes:\n",
        "        cls_id = int(box.cls[0])\n",
        "        if cls_id == 0:  # person class\n",
        "            x1, y1, x2, y2 = map(int, box.xyxy[0])\n",
        "            conf = float(box.conf[0])\n",
        "            label = f'Person {conf:.2f}'\n",
        "            cv2.rectangle(frame, (x1, y1), (x2, y2), (0, 255, 0), 2)\n",
        "            cv2.putText(frame, label, (x1, y1 - 10),\n",
        "                        cv2.FONT_HERSHEY_SIMPLEX, 0.6, (0, 255, 0), 2)\n",
        "\n",
        "    out.write(frame)\n",
        "\n",
        "cap.release()\n",
        "out.release()\n",
        "\n",
        "# =======================\n",
        "# 7. Display the output video\n",
        "# =======================\n",
        "Video(out_path, embed=True)\n"
      ],
      "metadata": {
        "id": "fG91Id9p9ni7"
      },
      "execution_count": null,
      "outputs": []
    },
    {
      "cell_type": "code",
      "source": [
        "import os\n",
        "\n",
        "output_txt_dir = \"yolo_dets\"\n",
        "os.makedirs(output_txt_dir, exist_ok=True)\n",
        "\n",
        "frame_id = 0  # Increment this per frame\n",
        "\n",
        "# Inside your video loop after getting results:\n",
        "detections = []\n",
        "\n",
        "for box in results.boxes:\n",
        "    cls_id = int(box.cls[0])\n",
        "    if cls_id == 0:  # Person class only\n",
        "        x1, y1, x2, y2 = map(float, box.xyxy[0])\n",
        "        w = x2 - x1\n",
        "        h = y2 - y1\n",
        "        conf = float(box.conf[0])\n",
        "        detections.append(f\"{frame_id},{x1:.2f},{y1:.2f},{w:.2f},{h:.2f},{conf:.4f}\")\n",
        "\n",
        "# Write detections to file (append per frame)\n",
        "with open(os.path.join(output_txt_dir, \"results.txt\"), \"a\") as f:\n",
        "    for line in detections:\n",
        "        f.write(line + \"\\n\")\n",
        "\n",
        "frame_id += 1\n"
      ],
      "metadata": {
        "id": "I0IoEBzN9woL"
      },
      "execution_count": null,
      "outputs": []
    }
  ]
}